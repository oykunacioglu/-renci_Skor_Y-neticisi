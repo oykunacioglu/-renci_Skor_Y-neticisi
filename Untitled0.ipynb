{
  "nbformat": 4,
  "nbformat_minor": 0,
  "metadata": {
    "colab": {
      "provenance": [],
      "authorship_tag": "ABX9TyNGmliMhUqmbUSZmipDYFkM",
      "include_colab_link": true
    },
    "kernelspec": {
      "name": "python3",
      "display_name": "Python 3"
    },
    "language_info": {
      "name": "python"
    }
  },
  "cells": [
    {
      "cell_type": "markdown",
      "metadata": {
        "id": "view-in-github",
        "colab_type": "text"
      },
      "source": [
        "<a href=\"https://colab.research.google.com/github/oykunacioglu/-renci_Skor_Y-neticisi/blob/main/Untitled0.ipynb\" target=\"_parent\"><img src=\"https://colab.research.google.com/assets/colab-badge.svg\" alt=\"Open In Colab\"/></a>"
      ]
    },
    {
      "cell_type": "code",
      "execution_count": 5,
      "metadata": {
        "colab": {
          "base_uri": "https://localhost:8080/"
        },
        "id": "SnX8glFkjZOw",
        "outputId": "41a37e72-0b82-49e4-ab74-f1467c427684"
      },
      "outputs": [
        {
          "output_type": "stream",
          "name": "stdout",
          "text": [
            "Öğrenci puanlarını virgülle ayırarak girin: 60,48,100,30\n",
            "Öğrenci Notları:\n",
            "Öğrenci 1: 60 (D)\n",
            "Öğrenci 2: 48 (F)\n",
            "Öğrenci 3: 100 (A)\n",
            "Öğrenci 4: 30 (F)\n",
            "\n",
            "Geçen Öğrencilerin Skorları: [60, 100]\n",
            "Kalan Öğrencilerin Skorları: [48, 30]\n"
          ]
        }
      ],
      "source": [
        "#Öğrenci Skor Yöneticisi\n",
        "öğrenci_skorları = input(\"Öğrenci puanlarını virgülle ayırarak girin: \")\n",
        "skorlar = [int(skorlar) for skorlar in öğrenci_skorları.split(\",\")]\n",
        "\n",
        "Notlar = [\n",
        "    \"A\" if skor >= 90 else\n",
        "    \"B\" if skor >= 80 else\n",
        "    \"C\" if skor >= 70 else\n",
        "    \"D\" if skor >= 60 else\n",
        "    \"F\"\n",
        "    for skor in skorlar\n",
        "]\n",
        "\n",
        "geçen_öğrenciler = [skor for skor in skorlar if skor>=60]\n",
        "kalan_öğrenciler = [skor for skor in skorlar if skor<60]\n",
        "\n",
        "print(\"Öğrenci Notları:\")\n",
        "for i in range(len(skorlar)):\n",
        "    print(f\"Öğrenci {i+1}: {skorlar[i]} ({Notlar[i]})\")\n",
        "\n",
        "print(\"\\nGeçen Öğrencilerin Skorları:\", geçen_öğrenciler)\n",
        "print(\"Kalan Öğrencilerin Skorları:\", kalan_öğrenciler)"
      ]
    }
  ]
}